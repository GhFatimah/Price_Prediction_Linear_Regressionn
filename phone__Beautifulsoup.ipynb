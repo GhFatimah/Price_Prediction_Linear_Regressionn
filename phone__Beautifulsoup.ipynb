{
 "cells": [
  {
   "cell_type": "code",
   "execution_count": 1,
   "id": "9533459a",
   "metadata": {},
   "outputs": [
    {
     "ename": "ModuleNotFoundError",
     "evalue": "No module named 'webdriver_manager'",
     "output_type": "error",
     "traceback": [
      "\u001b[0;31m---------------------------------------------------------------------------\u001b[0m",
      "\u001b[0;31mModuleNotFoundError\u001b[0m                       Traceback (most recent call last)",
      "\u001b[0;32m<ipython-input-1-6791c93c3908>\u001b[0m in \u001b[0;36m<module>\u001b[0;34m\u001b[0m\n\u001b[1;32m      8\u001b[0m \u001b[0;32mfrom\u001b[0m \u001b[0mselenium\u001b[0m\u001b[0;34m.\u001b[0m\u001b[0mwebdriver\u001b[0m\u001b[0;34m.\u001b[0m\u001b[0mcommon\u001b[0m\u001b[0;34m.\u001b[0m\u001b[0mkeys\u001b[0m \u001b[0;32mimport\u001b[0m \u001b[0mKeys\u001b[0m\u001b[0;34m\u001b[0m\u001b[0;34m\u001b[0m\u001b[0m\n\u001b[1;32m      9\u001b[0m \u001b[0;34m\u001b[0m\u001b[0m\n\u001b[0;32m---> 10\u001b[0;31m \u001b[0;32mfrom\u001b[0m \u001b[0mwebdriver_manager\u001b[0m\u001b[0;34m.\u001b[0m\u001b[0mchrome\u001b[0m \u001b[0;32mimport\u001b[0m \u001b[0mChromeDriverManager\u001b[0m\u001b[0;34m\u001b[0m\u001b[0;34m\u001b[0m\u001b[0m\n\u001b[0m\u001b[1;32m     11\u001b[0m \u001b[0;34m\u001b[0m\u001b[0m\n\u001b[1;32m     12\u001b[0m \u001b[0;32mimport\u001b[0m \u001b[0mrequests\u001b[0m\u001b[0;34m\u001b[0m\u001b[0;34m\u001b[0m\u001b[0m\n",
      "\u001b[0;31mModuleNotFoundError\u001b[0m: No module named 'webdriver_manager'"
     ]
    }
   ],
   "source": [
    "from bs4 import BeautifulSoup\n",
    "import requests\n",
    "import pandas as pd\n",
    "import numpy as np\n",
    "import re\n",
    "import time, os\n",
    "from selenium import webdriver\n",
    "from selenium.webdriver.common.keys import Keys\n",
    "\n",
    "from webdriver_manager.chrome import ChromeDriverManager\n",
    "\n",
    "import requests\n",
    "\n",
    "import math\n",
    "\n",
    "import json\n"
   ]
  },
  {
   "cell_type": "code",
   "execution_count": 7,
   "id": "0475f882",
   "metadata": {},
   "outputs": [],
   "source": [
    "url = \"http://www.gsmarena.com/makers.php3\"\n",
    "root_url= \"http://www.gsmarena.com/\"\n",
    "information = []"
   ]
  },
  {
   "cell_type": "code",
   "execution_count": 9,
   "id": "159908c0",
   "metadata": {},
   "outputs": [],
   "source": [
    "mainpage = requests.get(url)\n",
    "soup = BeautifulSoup(mainpage.text,'html.parser')\n"
   ]
  },
  {
   "cell_type": "code",
   "execution_count": 10,
   "id": "7e58a2ce",
   "metadata": {},
   "outputs": [
    {
     "ename": "AttributeError",
     "evalue": "'NoneType' object has no attribute 'find_all'",
     "output_type": "error",
     "traceback": [
      "\u001b[0;31m---------------------------------------------------------------------------\u001b[0m",
      "\u001b[0;31mAttributeError\u001b[0m                            Traceback (most recent call last)",
      "\u001b[0;32m<ipython-input-10-56bfd94fa86b>\u001b[0m in \u001b[0;36m<module>\u001b[0;34m\u001b[0m\n\u001b[1;32m      1\u001b[0m \u001b[0mtable\u001b[0m \u001b[0;34m=\u001b[0m \u001b[0msoup\u001b[0m\u001b[0;34m.\u001b[0m\u001b[0mfind\u001b[0m\u001b[0;34m(\u001b[0m\u001b[0;34m'div'\u001b[0m\u001b[0;34m,\u001b[0m \u001b[0mclass_\u001b[0m\u001b[0;34m=\u001b[0m\u001b[0;34m\"st-text\"\u001b[0m\u001b[0;34m)\u001b[0m\u001b[0;34m\u001b[0m\u001b[0;34m\u001b[0m\u001b[0m\n\u001b[0;32m----> 2\u001b[0;31m \u001b[0mlinks\u001b[0m \u001b[0;34m=\u001b[0m \u001b[0mtable\u001b[0m\u001b[0;34m.\u001b[0m\u001b[0mfind_all\u001b[0m\u001b[0;34m(\u001b[0m\u001b[0;34m'a'\u001b[0m\u001b[0;34m)\u001b[0m\u001b[0;34m\u001b[0m\u001b[0;34m\u001b[0m\u001b[0m\n\u001b[0m",
      "\u001b[0;31mAttributeError\u001b[0m: 'NoneType' object has no attribute 'find_all'"
     ]
    }
   ],
   "source": [
    "table = soup.find('div', class_=\"st-text\")\n",
    "links = table.find_all('a')"
   ]
  },
  {
   "cell_type": "code",
   "execution_count": 11,
   "id": "92e8dcbf",
   "metadata": {},
   "outputs": [
    {
     "ename": "NameError",
     "evalue": "name 'links' is not defined",
     "output_type": "error",
     "traceback": [
      "\u001b[0;31m---------------------------------------------------------------------------\u001b[0m",
      "\u001b[0;31mNameError\u001b[0m                                 Traceback (most recent call last)",
      "\u001b[0;32m<ipython-input-11-d1083545d065>\u001b[0m in \u001b[0;36m<module>\u001b[0;34m\u001b[0m\n\u001b[0;32m----> 1\u001b[0;31m \u001b[0mpagelink\u001b[0m \u001b[0;34m=\u001b[0m \u001b[0;34m[\u001b[0m\u001b[0ma\u001b[0m\u001b[0;34m.\u001b[0m\u001b[0mattrs\u001b[0m\u001b[0;34m.\u001b[0m\u001b[0mget\u001b[0m\u001b[0;34m(\u001b[0m\u001b[0;34m'href'\u001b[0m\u001b[0;34m)\u001b[0m \u001b[0;32mfor\u001b[0m \u001b[0ma\u001b[0m \u001b[0;32min\u001b[0m \u001b[0mlinks\u001b[0m\u001b[0;34m]\u001b[0m\u001b[0;34m\u001b[0m\u001b[0;34m\u001b[0m\u001b[0m\n\u001b[0m",
      "\u001b[0;31mNameError\u001b[0m: name 'links' is not defined"
     ]
    }
   ],
   "source": [
    "pagelink = [a.attrs.get('href') for a in links]"
   ]
  },
  {
   "cell_type": "code",
   "execution_count": 12,
   "id": "e6b0c1da",
   "metadata": {},
   "outputs": [],
   "source": [
    "def get_links(href):\n",
    "     page = requests.get(root_url + str(href))\n",
    "     soup = BeautifulSoup(page.text,'html.parser')\n",
    "     table = soup.find('div',class_=\"section-body\")\n",
    "     links = table.find_all('a')\n",
    "     return [a.attrs.get('href') for a in links]\n",
    "    \n",
    "#get phone info from 1 page\n",
    "def phoneinfo(directlink):\n",
    "     mainlink = root_url + str(directlink)\n",
    "     response = requests.get(mainlink)\n",
    "     soup = BeautifulSoup(response.content,'html.parser')\n",
    "     currentdate = time.strftime(\"%c\")\n",
    "     name = soup.find(\"h1\", class_=\"specs-phone-name-title\").get_text()\n",
    "     specs = soup.find(\"div\", id=\"specs-list\")\n",
    "     table = specs.find_all(\"table\")\n",
    "     dimension = table[2].get_text()\n",
    "     print(\"Phone Name:\" + \" \" + name)\n",
    "     d=[]\n",
    "     for t in dimension.split():\n",
    "         try: \n",
    "            d.append(float(t))\n",
    "         except ValueError:\n",
    "            pass\n",
    "     screen = table[3].get_text()\n",
    "     S=[]\n",
    "        # to collect only numbers from the screen text\n",
    "     for b in screen.split():\n",
    "        try:\n",
    "             S.append(float(b))\n",
    "        except ValueError:\n",
    "             pass\n",
    "        if len(d) < 4 and len(S) > 2 :\n",
    "                height = \"-\"\n",
    "                width = \"-\"\n",
    "                inch = S[0]\n",
    "                mm = round (float(S[0])*25.4,2)\n",
    "                pixWidth = S[1]\n",
    "                pixHeight = S[2]\n",
    "                ratio = round(int(S[1])/int(S[2]),3)\n",
    "                if 0.6 > ratio >=0.562:\n",
    "                         ratioW = 9\n",
    "                         ratioH = 16\n",
    "                elif 0.625> ratio >= 0.6:\n",
    "                         ratioW = 3\n",
    "                         ratioH = 5\n",
    "                elif 0.667> ratio >= 0.625:\n",
    "                         ratioW = 10\n",
    "                         ratioH = 16\n",
    "                elif 0.75> ratio >= 0.667:\n",
    "                         ratioW = 2\n",
    "                         ratioH = 3\n",
    "                elif 0.8 > ratio >= 0.75:\n",
    "                         ratioW = 3\n",
    "                         ratioH = 4\n",
    "                else:\n",
    "                         ratioW = 4\n",
    "                         ratioH = 5\n",
    "                         screenW = round(math.sqrt((math.pow(mm,2) *\n",
    "                         math.pow(ratioW,2))/(math.pow(ratioW,2)+math.pow(ratioH,2))),2)\n",
    "                         screenH = round(math.sqrt((math.pow(mm,2) - math.pow(screenW,2))),2)\n",
    "                         sidebezel = \"-\"\n",
    "                         topbotbezel = \"-\"\n",
    "                         status = \"Data Incomplete\"\n",
    "        elif len(d) >= 4 and len(S)<=2:\n",
    "                 height = d[0]\n",
    "                 width = d[1]\n",
    "                 inch = \"-\"\n",
    "                 mm = \"-\"\n",
    "                 pixWidth = \"-\"\n",
    "                 pixHeight = \"-\"\n",
    "                 ratioW = \"-\"\n",
    "                 ratioH = \"-\"\n",
    "                 screenH = \"-\"\n",
    "                 screenW = \"-\"\n",
    "                 sidebezel =\"-\"\n",
    "                 topbotbezel = \"-\"\n",
    "                 status = \"Data Incomplete\"\n",
    "        elif len(d) < 4 and len(S)<=2:\n",
    "                 height = \"-\"\n",
    "                 width = \"-\"\n",
    "                 inch = \"-\"\n",
    "                 mm = \"-\"\n",
    "                 pixWidth = \"-\"\n",
    "                 pixHeight = \"-\"\n",
    "                 ratioW = \"-\"\n",
    "                 ratioH = \"-\"\n",
    "                 screenW =\"-\"\n",
    "                 screenH = \"-\"\n",
    "                 sidebezel = \"-\"\n",
    "                 topbotbezel = \"-\"\n",
    "                 status = \"Data Incomplete\"\n",
    "        else:\n",
    "                height = d[0]\n",
    "                width = d[1]\n",
    "                inch = S[0]\n",
    "                mm = round (float(S[0])*25.4,2)\n",
    "                pixWidth = S[1]\n",
    "                pixHeight = S[2]\n",
    "                ratio = round(int(S[1])/int(S[2]),3)\n",
    "                if 0.6 > ratio >=0.562:\n",
    "                         ratioW = 9\n",
    "                         ratioH = 16\n",
    "                elif 0.625> ratio >= 0.6:\n",
    "                         ratioW = 3\n",
    "                         ratioH = 5\n",
    "                elif 0.667> ratio >= 0.625:\n",
    "                         ratioW = 10\n",
    "                         ratioH = 16 \n",
    "                elif 0.75> ratio >= 0.667:\n",
    "                         ratioW = 2\n",
    "                         ratioH = 3\n",
    "                elif 0.8 > ratio >= 0.75:\n",
    "                         ratioW = 3\n",
    "                         ratioH = 4\n",
    "                else:\n",
    "                         ratioW = 4\n",
    "                         ratioH = 5\n",
    "                screenW = round(math.sqrt((math.pow(mm,2) * math.pow(ratioW,2))/(math.pow(ratioW,2)+math.pow(ratioH,2))),2)\n",
    "                screenH = round(math.sqrt((math.pow(mm,2) - math.pow(screenW,2))),2)\n",
    "                sidebezel = round((d[1]- screenW) / 2, 2)\n",
    "                topbotbezel = round((d[0] - screenH) / 2, 2)\n",
    "                status = \"Data Complete\"\n",
    "    # print all information to double check\n",
    "        print(\"Phone Height:\"+ \" \" + str(height))\n",
    "        print(\"Phone Width:\" + \" \" + str(width))\n",
    "        print(\"Phone Diagonal in inch:\" + \" \" + str(inch))\n",
    "        print(\"Phone Diagonal in mm:\" + \" \" + str(mm))\n",
    "        print(\"Aspect Ratio=\" +str(ratioW)+\":\"+str(ratioH))\n",
    "        print(\"Pixel Width:\" +\" \" + str(pixWidth))\n",
    "        print(\"Pixel Height:\" + \" \" + str(pixHeight))\n",
    "        print(\"Screen Width:\" + \" \" + str(screenW))\n",
    "        print(\"Screen Height:\" + \" \" + str(screenH))\n",
    "        print(\"Side Bezels:\" + \" \"+ str(sidebezel))\n",
    "        print(\"Top and Bottom Bezel:\" + \" \"+ str(topbotbezel))\n",
    "        print(\"\")\n",
    "        entry ={\"name\": name, \"phoneH\": height,\"phoneW\": width,\"sizeinch\": inch,\"sizemm\": mm,\n",
    "                 \"pixelW\": pixWidth,\"pixelH\": pixHeight,\"ratioW\": ratioW,\"ratioH\": ratioH,\n",
    "                 \"screenW\":screenW,\"screenH\": screenH,\"sideB\": sidebezel,\"tbbezel\": topbotbezel,\n",
    "                 \"status\":status,\"Date Taken\":currentdate, \"Taken From\":mainlink}\n",
    "        information.append(entry)\n",
    "        time.sleep(2)             "
   ]
  },
  {
   "cell_type": "code",
   "execution_count": 13,
   "id": "8945f63b",
   "metadata": {},
   "outputs": [],
   "source": [
    "# collect nav page info\n",
    "def navpage(href):\n",
    "     response = requests.get(root_url+str(href))\n",
    "     soup = BeautifulSoup(response.text,'html.parser')\n",
    "     table = soup.find('div', class_=\"nav-pages\")\n",
    "     links = table.find_all('a')\n",
    "     return [a.attrs.get('href') for a in links]"
   ]
  },
  {
   "cell_type": "code",
   "execution_count": 14,
   "id": "b23f82ad",
   "metadata": {},
   "outputs": [],
   "source": [
    "# program to start getting data from the 1st phone brand\n",
    "def start(href): \n",
    "     links = get_links(href)\n",
    "     for directlink in links:\n",
    "             phoneinfo(directlink)\n",
    "             try:\n",
    "                with open('Phone Database.txt','w') as p:\n",
    "                      json.dump(information, p, indent=1)\n",
    "            \n",
    "             except:\n",
    "                continue\n",
    "                time.sleep(2)\n",
    "     time.sleep(2)"
   ]
  },
  {
   "cell_type": "code",
   "execution_count": 15,
   "id": "b4cd85d4",
   "metadata": {},
   "outputs": [
    {
     "ename": "NameError",
     "evalue": "name 'pagelink' is not defined",
     "output_type": "error",
     "traceback": [
      "\u001b[0;31m---------------------------------------------------------------------------\u001b[0m",
      "\u001b[0;31mNameError\u001b[0m                                 Traceback (most recent call last)",
      "\u001b[0;32m<ipython-input-15-44a64d4d31a7>\u001b[0m in \u001b[0;36m<module>\u001b[0;34m\u001b[0m\n\u001b[1;32m     10\u001b[0m              \u001b[0mContinue\u001b[0m\u001b[0;34m\u001b[0m\u001b[0;34m\u001b[0m\u001b[0m\n\u001b[1;32m     11\u001b[0m              \u001b[0mtime\u001b[0m\u001b[0;34m.\u001b[0m\u001b[0msleep\u001b[0m\u001b[0;34m(\u001b[0m\u001b[0;36m2\u001b[0m\u001b[0;34m)\u001b[0m\u001b[0;34m\u001b[0m\u001b[0;34m\u001b[0m\u001b[0m\n\u001b[0;32m---> 12\u001b[0;31m \u001b[0mprint\u001b[0m\u001b[0;34m(\u001b[0m\u001b[0mmain\u001b[0m\u001b[0;34m(\u001b[0m\u001b[0;34m)\u001b[0m\u001b[0;34m)\u001b[0m\u001b[0;34m\u001b[0m\u001b[0;34m\u001b[0m\u001b[0m\n\u001b[0m",
      "\u001b[0;32m<ipython-input-15-44a64d4d31a7>\u001b[0m in \u001b[0;36mmain\u001b[0;34m()\u001b[0m\n\u001b[1;32m      1\u001b[0m \u001b[0;31m# main program\u001b[0m\u001b[0;34m\u001b[0m\u001b[0;34m\u001b[0m\u001b[0;34m\u001b[0m\u001b[0m\n\u001b[1;32m      2\u001b[0m \u001b[0;32mdef\u001b[0m \u001b[0mmain\u001b[0m\u001b[0;34m(\u001b[0m\u001b[0;34m)\u001b[0m\u001b[0;34m:\u001b[0m\u001b[0;34m\u001b[0m\u001b[0;34m\u001b[0m\u001b[0m\n\u001b[0;32m----> 3\u001b[0;31m     \u001b[0;32mfor\u001b[0m \u001b[0mhref\u001b[0m \u001b[0;32min\u001b[0m \u001b[0mpagelink\u001b[0m\u001b[0;34m:\u001b[0m\u001b[0;34m\u001b[0m\u001b[0;34m\u001b[0m\u001b[0m\n\u001b[0m\u001b[1;32m      4\u001b[0m          \u001b[0mstart\u001b[0m\u001b[0;34m(\u001b[0m\u001b[0mhref\u001b[0m\u001b[0;34m)\u001b[0m\u001b[0;34m\u001b[0m\u001b[0;34m\u001b[0m\u001b[0m\n\u001b[1;32m      5\u001b[0m          \u001b[0;32mtry\u001b[0m\u001b[0;34m:\u001b[0m\u001b[0;34m\u001b[0m\u001b[0;34m\u001b[0m\u001b[0m\n",
      "\u001b[0;31mNameError\u001b[0m: name 'pagelink' is not defined"
     ]
    }
   ],
   "source": [
    "# main program\n",
    "def main():\n",
    "    for href in pagelink:\n",
    "         start(href)\n",
    "         try:\n",
    "            extrapages = navpage(href)\n",
    "            for directlink in extrapages:\n",
    "                   start(directlink)\n",
    "         except:\n",
    "             Continue\n",
    "             time.sleep(2)\n",
    "print(main()) "
   ]
  },
  {
   "cell_type": "code",
   "execution_count": null,
   "id": "8acf4b72",
   "metadata": {},
   "outputs": [],
   "source": []
  },
  {
   "cell_type": "code",
   "execution_count": null,
   "id": "c977dd66",
   "metadata": {},
   "outputs": [],
   "source": []
  },
  {
   "cell_type": "code",
   "execution_count": null,
   "id": "20b7e783",
   "metadata": {},
   "outputs": [],
   "source": []
  },
  {
   "cell_type": "code",
   "execution_count": null,
   "id": "8e581149",
   "metadata": {},
   "outputs": [],
   "source": []
  },
  {
   "cell_type": "code",
   "execution_count": null,
   "id": "1c7cb739",
   "metadata": {},
   "outputs": [],
   "source": []
  },
  {
   "cell_type": "code",
   "execution_count": null,
   "id": "349b9834",
   "metadata": {},
   "outputs": [],
   "source": []
  },
  {
   "cell_type": "code",
   "execution_count": null,
   "id": "87714f3b",
   "metadata": {},
   "outputs": [],
   "source": [
    "pip install webdriver-manager"
   ]
  },
  {
   "cell_type": "code",
   "execution_count": null,
   "id": "488bd507",
   "metadata": {},
   "outputs": [],
   "source": [
    "driver = webdriver.Chrome(ChromeDriverManager().install())"
   ]
  },
  {
   "cell_type": "code",
   "execution_count": null,
   "id": "5a1bede9",
   "metadata": {},
   "outputs": [],
   "source": [
    "chromedriver = \"/Users/asmaalsubaie/Downloads/chromedriver\" # path to the chromedriver executable\n",
    "os.environ[\"webdriver.chrome.driver\"] = chromedriver\n"
   ]
  },
  {
   "cell_type": "code",
   "execution_count": null,
   "id": "1ee34f81",
   "metadata": {},
   "outputs": [],
   "source": [
    "#driver = webdriver.Chrome(chromedriver)\n",
    "\n",
    "driver.get(\"https://www.gsmarena.com/\")\n",
    "#soup = BeautifulSoup(driver.page_source, 'html.parser')"
   ]
  },
  {
   "cell_type": "code",
   "execution_count": null,
   "id": "f2e73611",
   "metadata": {},
   "outputs": [],
   "source": [
    "def link_scan(link_url):\n",
    "    c = 1\n",
    "    source_code=requests.get(link_url)\n",
    "    plain_text=source_code.text\n",
    "    soup = BeautifulSoup(plain_text)\n",
    "    for link in soup.find_all('div',{'class':'brandmenu-v2 light l-box clearfix'}):\n",
    "        for li in link.find_all('li'):\n",
    "            for anc in li.find_all('a'):\n",
    "                anc_src = r'http://www.gsmarena.com/' + anc.get('href')\n",
    "                anc_name = anc.string\n",
    "                print(c, anc_name,\"\\n\", anc_src, \"\\n\")\n",
    "                c += 1\n",
    "                inside_scan(anc_name, anc_src)\n",
    "\n",
    "\n",
    "#def inside_scan(name, hrefs):\n",
    "  #  i = 1\n",
    "  #  source_code=requests.get(hrefs)\n",
    "   # plain_text=source_code.text\n",
    "    #soup = BeautifulSoup(plain_text)\n",
    "  #  for link in soup.find_all('div',{'class':'makers'}):\n",
    "   #     for li in link.find_all('li'):\n",
    "    #        for anc in li.find_all('a'):\n",
    "     #           anc_src = r'http://www.gsmarena.com/' + anc.get('href')\n",
    "      #          anc_src.click()\n",
    "       #         a=soup.find('div',{'id':'specs-list'})\n",
    "        #        for nam in (sp.find('span') for sp in anc.find_all('strong')):\n",
    "         #           modal_name = nam.string\n",
    "                   #print(name, hrefs, \"\\n\", anc_src, modal_name)\n",
    "          #          print(\"\\t\", i, \"\\t\", a, name, modal_name)\n",
    "           #         i += 1\n",
    "                 #a=soup.find('div',{'id':'specs-list'})\n",
    "\n",
    "def inside_scan(name, hrefs):\n",
    "    i = 1\n",
    "    source_code=requests.get(hrefs)\n",
    "    source_code.click()\n",
    "    soup = BeautifulSoup(driver.page_source, 'html.parser')\n",
    "    for link in soup.find_all('div',{'id':'specs-list'}):\n",
    "        for li in link.find_all('li'):\n",
    "            for anc in li.find_all('a'):\n",
    "                anc_src = r'http://www.gsmarena.com/' + anc.get('href')\n",
    "                for nam in (sp.find('span') for sp in anc.find_all('strong')):\n",
    "                    modal_name = nam.string\n",
    "                   #print(name, hrefs, \"\\n\", anc_src, modal_name)\n",
    "                    print(\"\\t\", i, \"\\t\", anc_src, name, modal_name)\n",
    "                    i += 1\n",
    "\n"
   ]
  },
  {
   "cell_type": "code",
   "execution_count": null,
   "id": "59fa6be9",
   "metadata": {},
   "outputs": [],
   "source": [
    "#a = ['apple iphone','huawei','samsung','nokia']\n",
    "\n",
    "link_scan(driver)"
   ]
  },
  {
   "cell_type": "code",
   "execution_count": null,
   "id": "3db3814f",
   "metadata": {},
   "outputs": [],
   "source": [
    "search_box = driver.find_element_by_xpath(\"//input[@id='topsearch-text']\")\n",
    "\n",
    "#clear the current search\n",
    "search_box.clear()\n",
    "\n",
    "#input new search\n",
    "#a = ['apple iphone','huawei','samsung','nokia']\n",
    "\n",
    "\n",
    "search_box.send_keys()\n",
    "    \n",
    "\n",
    "\n",
    "#search_box.send_keys(\"Huawei Nova 7i\")\n",
    "\n",
    "#hit enter\n",
    "search_box.send_keys(Keys.RETURN)  \n",
    "\n",
    "time.sleep(1)"
   ]
  },
  {
   "cell_type": "code",
   "execution_count": null,
   "id": "8cf001ba",
   "metadata": {},
   "outputs": [],
   "source": [
    "short_link = driver.find_element_by_xpath(\n",
    "    '//img[contains(@title, \"Huawei nova 7i\")]'\n",
    ")\n",
    "short_link.click()"
   ]
  },
  {
   "cell_type": "code",
   "execution_count": null,
   "id": "f88eab3e",
   "metadata": {},
   "outputs": [],
   "source": [
    "# to click into img\n",
    "\n",
    "short_link = driver.find_element_by_xpath(\n",
    "    \"/html/body/div[1]/div[1]/div[2]/div/div[2]/div/ul/li[1]/a/img\")\n",
    "\n",
    "short_link.click()\n",
    "\n"
   ]
  },
  {
   "cell_type": "code",
   "execution_count": null,
   "id": "6a8e31b2",
   "metadata": {},
   "outputs": [],
   "source": [
    "#short_link.execute_script(\"window.history.go(-1)\")\n",
    "driver.navigate().forward();"
   ]
  },
  {
   "cell_type": "code",
   "execution_count": null,
   "id": "0cb3ceda",
   "metadata": {},
   "outputs": [],
   "source": [
    "soup = BeautifulSoup(driver.page_source, 'html.parser')"
   ]
  },
  {
   "cell_type": "code",
   "execution_count": null,
   "id": "04282050",
   "metadata": {},
   "outputs": [],
   "source": [
    "a=soup.find('div',{'id':'specs-list'})\n"
   ]
  },
  {
   "cell_type": "code",
   "execution_count": null,
   "id": "16aef612",
   "metadata": {},
   "outputs": [],
   "source": [
    "print(a.text)\n"
   ]
  },
  {
   "cell_type": "code",
   "execution_count": null,
   "id": "e58aa2cb",
   "metadata": {},
   "outputs": [],
   "source": [
    "#datas = soup.find_all(\"li\")\n",
    "  \n",
    "# Iterate through all li tags\n",
    "#for data in datas:\n",
    "    # Get text from each tag\n",
    "   # print(data.text)"
   ]
  },
  {
   "cell_type": "code",
   "execution_count": null,
   "id": "dede84a3",
   "metadata": {},
   "outputs": [],
   "source": []
  },
  {
   "cell_type": "code",
   "execution_count": null,
   "id": "b3b96497",
   "metadata": {},
   "outputs": [],
   "source": []
  },
  {
   "cell_type": "code",
   "execution_count": null,
   "id": "15da95ee",
   "metadata": {},
   "outputs": [],
   "source": []
  },
  {
   "cell_type": "code",
   "execution_count": null,
   "id": "16646f1f",
   "metadata": {},
   "outputs": [],
   "source": []
  }
 ],
 "metadata": {
  "kernelspec": {
   "display_name": "Python 3",
   "language": "python",
   "name": "python3"
  },
  "language_info": {
   "codemirror_mode": {
    "name": "ipython",
    "version": 3
   },
   "file_extension": ".py",
   "mimetype": "text/x-python",
   "name": "python",
   "nbconvert_exporter": "python",
   "pygments_lexer": "ipython3",
   "version": "3.8.8"
  }
 },
 "nbformat": 4,
 "nbformat_minor": 5
}
